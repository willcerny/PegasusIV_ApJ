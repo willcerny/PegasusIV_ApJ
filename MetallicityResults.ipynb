{
 "cells": [
  {
   "cell_type": "code",
   "execution_count": 1,
   "metadata": {},
   "outputs": [],
   "source": [
    "import numpy as np\n",
    "import pandas as pd \n",
    "from scipy.stats import norm, truncnorm\n",
    "from collections import OrderedDict as odict\n",
    "import emcee\n",
    "import corner\n",
    "import warnings; warnings.filterwarnings('ignore')\n",
    "import matplotlib.pyplot as plt \n",
    "\n",
    "plt.rc('axes',lw =2)\n",
    "plt.rc('text', usetex = True)\n",
    "%matplotlib inline"
   ]
  },
  {
   "cell_type": "code",
   "execution_count": 2,
   "metadata": {},
   "outputs": [],
   "source": [
    "dataframe = pd.read_csv('PegasusIV_CatalogLite.csv')"
   ]
  },
  {
   "cell_type": "code",
   "execution_count": 3,
   "metadata": {},
   "outputs": [],
   "source": [
    "def gmr_to_vmag(g,r,dg,dr):\n",
    "    '''\n",
    "    Converts DELVE/DECam g,r photometry to Johnson V-band\n",
    "    Agnostic to whether data has had extinction correction applied; this notebook later assumes it *has*\n",
    "    '''\n",
    "    v = g - 0.487 * (g - r + .1) - 0.025\n",
    "    dv = np.sqrt ((1 - 0.487) * dg ** 2 + 0.487 * dr ** 2 )\n",
    "    return v, dv"
   ]
  },
  {
   "cell_type": "code",
   "execution_count": 4,
   "metadata": {},
   "outputs": [],
   "source": [
    "def gaia_to_vmag(gaia_g, gaia_bp, gaia_rp):\n",
    "    '''\n",
    "    Convert Gaia EDR3 broadband photometry (G, G_BP, G_RP) to Johnson V-band using relation\n",
    "    from the Gaia EDR3 documentation:\n",
    "    https://gea.esac.esa.int/archive/documentation/GEDR3/Data_processing/chap_cu5pho/cu5pho_sec_photSystem/\n",
    "    \n",
    "    Agnostic to whether data has had extinction correction applied; this notebook later assumes it *has NOT*\n",
    "    '''\n",
    "    bp_m_rp = gaia_bp - gaia_rp\n",
    "    GmV = -0.02704 + (0.01424 * bp_m_rp) - (0.2156 * bp_m_rp**2) + (0.01426 * bp_m_rp**3)\n",
    "    \n",
    "    return -1 * (GmV - gaia_g) "
   ]
  },
  {
   "cell_type": "code",
   "execution_count": 5,
   "metadata": {},
   "outputs": [],
   "source": [
    "def derive_vmag0(dataframe):\n",
    "    '''\n",
    "    Derives Johnson V-band magnitudes using DECam photometry where available, or Gaia EDR3 photometry where not.\n",
    "    Does *not* apply distance or extinction correction.\n",
    "    '''\n",
    "    vmag_array = []\n",
    "    dvmag_array = []\n",
    "    \n",
    "    for index, row in dataframe.iterrows():\n",
    "        if (row['Mem']) & (row['SNR'] > 5):\n",
    "            if np.isfinite(row['EXT_CORRECTED_G']) & np.isfinite(row['EXT_CORRECTED_R']) & \\\n",
    "            np.isfinite(row['MAGERR_PSF_G']) & np.isfinite(row['MAGERR_PSF_R']):\n",
    "\n",
    "                vmag, vmag_err = gmr_to_vmag(row['EXT_CORRECTED_G'], row['EXT_CORRECTED_R'], row['MAGERR_PSF_G'], row['MAGERR_PSF_R'])\n",
    "\n",
    "            else: \n",
    "                vmag = gaia_to_vmag(row['phot_g_mean_mag'], row['phot_bp_mean_mag'], row['phot_rp_mean_mag'])\n",
    "                vmag -= (3.1 * 0.06) \n",
    "                \n",
    "                vmag_err = 0.1    \n",
    "\n",
    "        else: \n",
    "            vmag, vmag_err = -99, -99\n",
    "\n",
    "        vmag_array.append(vmag)\n",
    "        dvmag_array.append(vmag_err)\n",
    "    \n",
    "    return np.asarray(vmag_array), np.asarray(dvmag_array)"
   ]
  },
  {
   "cell_type": "code",
   "execution_count": 6,
   "metadata": {},
   "outputs": [],
   "source": [
    "vmags0_all, vmag0_errs_all = derive_vmag0(dataframe)\n",
    "\n",
    "dm = 19.77\n",
    "ddm = (0.03**2 + .1**2)**(0.5) \n",
    "\n",
    "dataframe['Vmag0'] = vmags0_all - dm\n",
    "dataframe['Vmag0_err'] = np.sqrt(vmag0_errs_all**2 + ddm**2)"
   ]
  },
  {
   "cell_type": "code",
   "execution_count": 7,
   "metadata": {},
   "outputs": [],
   "source": [
    "car13_a = -3.45\n",
    "car13_b = 0.16\n",
    "car13_c = 0.41\n",
    "car13_d = -0.53\n",
    "car13_e = 0.019\n",
    "\n",
    "car13_da = 0.04\n",
    "car13_db = 0.01\n",
    "car13_dc = 0.004\n",
    "car13_dd = 0.11\n",
    "car13_de = 0.002\n",
    "\n",
    "def feh_cat_all(ews, dews, M_V, dM_V):\n",
    "\n",
    "    #CARRERA ET AL. (2013) CAT CALIBRATION TO ABSOLUTE V MAGNITUDE\n",
    "    a = -3.45\n",
    "    b = 0.16\n",
    "    c = 0.41\n",
    "    d = -0.53\n",
    "    e = 0.019\n",
    "\n",
    "    feh = car13_a + car13_b*M_V + car13_c*(abs(ews)) + car13_d*(abs(ews))**(-1.5) + car13_e*(abs(ews))*M_V\n",
    "\n",
    "    feh[feh < -5] = -99\n",
    "    \n",
    "    return feh"
   ]
  },
  {
   "cell_type": "code",
   "execution_count": 8,
   "metadata": {},
   "outputs": [],
   "source": [
    "feh = feh_cat_all(ews = dataframe['EW'], dews = dataframe['dEW_tot'], \n",
    "                  M_V = dataframe['Vmag0'], dM_V =  dataframe['Vmag0_err'])\n",
    "\n",
    "dataframe['FeH'] = feh"
   ]
  },
  {
   "cell_type": "code",
   "execution_count": 9,
   "metadata": {},
   "outputs": [
    {
     "data": {
      "text/plain": [
       "0   -1.997743\n",
       "2   -2.822047\n",
       "4   -2.851911\n",
       "5   -2.771761\n",
       "9   -3.294577\n",
       "Name: FeH, dtype: float64"
      ]
     },
     "execution_count": 9,
     "metadata": {},
     "output_type": "execute_result"
    }
   ],
   "source": [
    "dataframe['FeH'][dataframe['FeH'] != -99]"
   ]
  },
  {
   "cell_type": "code",
   "execution_count": 10,
   "metadata": {},
   "outputs": [],
   "source": [
    "valid_cut = (dataframe['FeH'] != -99)\n",
    "\n",
    "valid_ews = dataframe['EW'][valid_cut].values\n",
    "valid_dews = dataframe['dEW_tot'][valid_cut].values\n",
    "valid_mv = dataframe['Vmag0'][valid_cut].values\n",
    "valid_dmv = dataframe['Vmag0_err'][valid_cut].values"
   ]
  },
  {
   "cell_type": "code",
   "execution_count": 11,
   "metadata": {},
   "outputs": [
    {
     "name": "stdout",
     "output_type": "stream",
     "text": [
      "-1.998 + 0.105 - 0.105\n",
      "-2.821 + 0.338 - 0.414\n",
      "-2.851 + 0.321 - 0.404\n",
      "-2.771 + 0.309 - 0.371\n",
      "-3.29 + 0.313 - 0.508\n"
     ]
    },
    {
     "data": {
      "image/png": "[encoded data removed]",
      "text/plain": [
       "<Figure size 432x288 with 1 Axes>"
      ]
     },
     "metadata": {
      "needs_background": "light"
     },
     "output_type": "display_data"
    }
   ],
   "source": [
    "feh_err_upper = []\n",
    "feh_err_lower = []\n",
    "\n",
    "for measurement_index in range(len(valid_ews)):\n",
    "\n",
    "    ew_measured = valid_ews[measurement_index]\n",
    "    dew_tot_measured = valid_dews[measurement_index]\n",
    "    M_V = valid_mv[measurement_index]\n",
    "    dM_V = valid_dmv[measurement_index]\n",
    "    \n",
    "    ## see https://docs.scipy.org/doc/scipy/reference/generated/scipy.stats.truncnorm.html\n",
    "    a, b = (0 - ew_measured) / dew_tot_measured, (1e9 - ew_measured) / dew_tot_measured\n",
    "    \n",
    "    summed_ew_dist = truncnorm.rvs(a = a, b = b, loc =  ew_measured, scale = dew_tot_measured, size=5000000)\n",
    "    MV_dist =   norm.rvs(loc = M_V, scale = dM_V, size= 5000000)\n",
    "    carrera_a = norm.rvs(loc = car13_a, scale = car13_da, size=5000000)\n",
    "    carrera_b = norm.rvs(loc = car13_b, scale = car13_db, size=5000000)\n",
    "    carrera_c = norm.rvs(loc = car13_c, scale = car13_dc, size=5000000)\n",
    "    carrera_d = norm.rvs(loc = car13_d, scale = car13_dd, size=5000000)\n",
    "    carrera_e = norm.rvs(loc = car13_e, scale = car13_de, size=5000000)\n",
    "\n",
    "    feh = carrera_a + carrera_b*MV_dist + carrera_c*summed_ew_dist + carrera_d*(1/summed_ew_dist**(1.5)) +  carrera_e*summed_ew_dist*MV_dist\n",
    "    p16,p50,p84 = np.percentile(feh,[16,50,84])\n",
    "    \n",
    "    print(np.round(p50,3), '+', np.round(p84-p50,3), '-', np.round(p50-p16,3))\n",
    "    \n",
    "    plt.hist(feh, alpha = .4, bins = np.linspace(-6,0,51))\n",
    "\n",
    "    plt.xlim(-6,0)\n",
    "    \n",
    "    feh_err_upper.append(p84-p50)\n",
    "    feh_err_lower.append(p50-p16)"
   ]
  },
  {
   "cell_type": "code",
   "execution_count": 12,
   "metadata": {},
   "outputs": [],
   "source": [
    "dataframe['FeH_err_upper'] = [-99] * len(dataframe)\n",
    "dataframe['FeH_err_lower'] = [-99] * len(dataframe)\n",
    "\n",
    "dataframe['FeH_err_upper'][dataframe['FeH'] != -99] = feh_err_upper\n",
    "dataframe['FeH_err_lower'][dataframe['FeH'] != -99] = feh_err_lower\n",
    "\n",
    "dataframe['FeH_err_mean'] = [np.mean([a,b]) for (a,b) in zip(dataframe['FeH_err_upper'], dataframe['FeH_err_lower'])]"
   ]
  },
  {
   "cell_type": "markdown",
   "metadata": {},
   "source": [
    "# Derive Mean Metallicity and Metallicity Dispersion"
   ]
  },
  {
   "cell_type": "markdown",
   "metadata": {},
   "source": [
    "### Likelihood Function"
   ]
  },
  {
   "cell_type": "code",
   "execution_count": 13,
   "metadata": {},
   "outputs": [],
   "source": [
    "PARAMS = odict([\n",
    "    ('mu',r'$\\mu$ (dex)'),\n",
    "    ('sigma',r'$\\sigma$ (dex)'),\n",
    "])\n",
    "\n",
    "def quantile(x, q, weights=None):\n",
    "    \"\"\"\n",
    "    Compute sample quantiles with support for weighted samples.\n",
    "    Note\n",
    "    ----\n",
    "    When ``weights`` is ``None``, this method simply calls numpy's percentile\n",
    "    function with the values of ``q`` multiplied by 100.\n",
    "    Parameters\n",
    "    ----------\n",
    "    x : array_like[nsamples,]\n",
    "       The samples.\n",
    "    q : array_like[nquantiles,]\n",
    "       The list of quantiles to compute. These should all be in the range\n",
    "       ``[0, 1]``.\n",
    "    weights : Optional[array_like[nsamples,]]\n",
    "        An optional weight corresponding to each sample. These\n",
    "    Returns\n",
    "    -------\n",
    "    quantiles : array_like[nquantiles,]\n",
    "        The sample quantiles computed at ``q``.\n",
    "    Raises\n",
    "    ------\n",
    "    ValueError\n",
    "        For invalid quantiles; ``q`` not in ``[0, 1]`` or dimension mismatch\n",
    "        between ``x`` and ``weights``.\n",
    "    \"\"\"\n",
    "    x = np.atleast_1d(x)\n",
    "    q = np.atleast_1d(q)\n",
    "\n",
    "    if np.any(q < 0.0) or np.any(q > 1.0):\n",
    "        raise ValueError(\"Quantiles must be between 0 and 1\")\n",
    "\n",
    "    if weights is None:\n",
    "        return np.percentile(x, list(100.0 * q))\n",
    "    else:\n",
    "        weights = np.atleast_1d(weights)\n",
    "        if len(x) != len(weights):\n",
    "            raise ValueError(\"Dimension mismatch: len(weights) != len(x)\")\n",
    "        idx = np.argsort(x)\n",
    "        sw = weights[idx]\n",
    "        cdf = np.cumsum(sw)[:-1]\n",
    "        cdf /= cdf[-1]\n",
    "        cdf = np.append(0, cdf)\n",
    "        return np.interp(q, cdf, x[idx]).tolist()\n",
    "\n",
    "\n",
    "def lnprior(theta, vel, kwargs):\n",
    "    \"\"\"\n",
    "    Log-prior to set the bounds of the parameter space:\n",
    "      sigma > 0\n",
    "      vmin < mu < vmax\n",
    "    \"\"\"\n",
    "    sigmaprior = kwargs.get('sigmaprior')\n",
    "    \n",
    "    if sigmaprior == 'log':\n",
    "        mu, logsigma = theta\n",
    "        if not -2 < logsigma < 2:\n",
    "            return -np.inf\n",
    "    else:\n",
    "        mu, sigma = theta\n",
    "        if sigma < 0:\n",
    "            return -np.inf\n",
    "\n",
    "    return 0\n",
    "\n",
    "def lnlike(theta, vel, vel_err, kwargs):\n",
    "    \"\"\"\n",
    "    Log-likelihood function from Walker et al. (2007) Eq. :\n",
    "    http://arxiv.org/abs/astro-ph/0511465\n",
    "    \"\"\"\n",
    "    \n",
    "    sigmaprior = kwargs.get('sigmaprior')\n",
    "    if sigmaprior == 'log':\n",
    "        mu, logsigma = theta\n",
    "        sigma2 = (10**logsigma)**2\n",
    "    else:\n",
    "        mu, sigma = theta\n",
    "        sigma2 = sigma**2\n",
    "\n",
    "    a = -0.5 * np.sum(np.log(vel_err**2 + sigma2))\n",
    "    b = -0.5 * np.sum((vel - mu)**2/(vel_err**2 + sigma2))\n",
    "    c = -1. * (vel.size)/2. * np.log(2*np.pi)\n",
    "\n",
    "    return a + b + c\n",
    "\n",
    "def lnprob(theta, vel, vel_err, kwargs):\n",
    "    \n",
    "    lp = lnprior(theta, vel, kwargs)\n",
    "    if not np.isfinite(lp):\n",
    "        return -np.inf\n",
    "    return lp + lnlike(theta, vel, vel_err, kwargs)\n",
    "\n",
    "def mcmc(vel, vel_err, kwargs, showProgress = False):\n",
    "    nperr = np.seterr(invalid='ignore')\n",
    "\n",
    "    \n",
    "    \n",
    "    ndim = len(PARAMS)  # number of parameters in the model\n",
    "\n",
    "#     print(kwargs)\n",
    "    \n",
    "    nwalkers = kwargs.get('nwalkers',50) # number of MCMC walkers\n",
    "    nburn    = kwargs.get('nburn',500)    # \"burn-in\" period to let chains stabilize\n",
    "    nsteps   = kwargs.get('nsteps',2500) # number of MCMC steps to take\n",
    "    nthreads = kwargs.get('nthreads',1)  # number of threads\n",
    " \n",
    "    sigmaprior = kwargs.get('sigmaprior','log') # prior on sigma: log or flat\n",
    "    \n",
    "#     print('here', sigmaprior)\n",
    "    ## flat\n",
    "    if not np.all(np.isfinite([vel,vel_err])):\n",
    "        print(\"WARNING: Non-finite value found in data\")\n",
    "        sel = np.isfinite(vel) & np.isfinite(vel_err)\n",
    "        vel,vel_err = vel[sel], vel_err[sel]\n",
    "\n",
    "    mean, std = np.mean(vel), np.std(vel)\n",
    "  \n",
    "    mu = np.random.rand(nwalkers) * 0.5+(vel.mean())\n",
    "    sigma = np.random.rand(nwalkers)*1.5\n",
    "\n",
    "    if sigmaprior == 'log':\n",
    "        starting_guesses = np.vstack([mu,np.log10(sigma)]).T\n",
    "    else:\n",
    "        starting_guesses = np.vstack([mu, sigma]).T\n",
    "\n",
    "    sampler = emcee.EnsembleSampler(nwalkers, ndim, lnprob,\n",
    "                                    args=[vel,vel_err,kwargs], threads=nthreads)\n",
    "\n",
    "    # Burn the requested number of steps\n",
    "\n",
    "    pos,prob,state = sampler.run_mcmc(starting_guesses,nburn, progress = showProgress)\n",
    "    sampler.reset()\n",
    "\n",
    "    #sampler.run_mcmc(pos,nsteps,state,prob)\n",
    "    sampler.run_mcmc(pos,nsteps, progress = showProgress)\n",
    "    samples = sampler.chain.reshape(-1,ndim,order='F')\n",
    "\n",
    "    names = PARAMS.keys()\n",
    "\n",
    "    return samples"
   ]
  },
  {
   "cell_type": "markdown",
   "metadata": {},
   "source": [
    "### 1. Default 5-star sample, logarithmic prior"
   ]
  },
  {
   "cell_type": "code",
   "execution_count": 14,
   "metadata": {},
   "outputs": [
    {
     "name": "stderr",
     "output_type": "stream",
     "text": [
      "100%|██████████| 500/500 [00:27<00:00, 18.32it/s]\n",
      "100%|██████████| 4500/4500 [04:47<00:00, 15.67it/s]\n"
     ]
    },
    {
     "data": {
      "image/png": "[encoded data removed]",
      "text/plain": [
       "<Figure size 396x396 with 4 Axes>"
      ]
     },
     "metadata": {
      "needs_background": "light"
     },
     "output_type": "display_data"
    }
   ],
   "source": [
    "default_kwargs = dict(nwalkers = 50,nburn = 500,\n",
    "                  nsteps = 4500 , nthreads= 4, sigmaprior = 'log')\n",
    "\n",
    "valid_feh = dataframe['FeH'][dataframe['FeH'] != -99]\n",
    "valid_dfeh = dataframe['FeH_err_mean'][dataframe['FeH'] != -99]\n",
    "\n",
    "samples = mcmc(valid_feh, valid_dfeh, default_kwargs, showProgress = True)\n",
    "\n",
    "vsamples = samples[:,0]\n",
    "sigma_samples = 10**samples[:,1]\n",
    "samples = np.vstack([vsamples,sigma_samples]).T\n",
    "\n",
    "fig = corner.corner(samples,labels = [r'$[\\rm Fe/H] \\hspace{.25em} (\\rm dex)$',r'$\\sigma_{\\rm [Fe/H]} \\hspace{.25em} (\\rm dex)$'], show_titles = False, title_kwargs=dict(fontsize=16.), label_kwargs=dict(fontsize=18), bins = [np.linspace(-3.5,-2,15),np.linspace(0,2,25)])\n",
    "\n",
    "\n",
    "fig.axes[0].set_xlim(-3.75,-1.5)\n",
    "fig.axes[2].set_xlim(-3.75,-1.5)\n",
    "fig.axes[2].set_ylim(0,1.25)\n",
    "fig.axes[3].set_xlim(0,1.25)\n",
    "fig.axes[2].tick_params(axis='both', which='major', labelsize=14)\n",
    "fig.axes[3].tick_params(axis='both', which='major', labelsize=14)\n",
    "\n",
    "res_v50,res_v16,res_v84 = quantile(samples[:,0], q = [.5,.16,.84])\n",
    "lowvbound = res_v50 - res_v16\n",
    "upvbound = res_v84 - res_v50\n",
    "\n",
    "res_d50,res_d16,res_d84 = quantile(samples[:,1], q = [.5,.16,.84])\n",
    "lowdbound = res_d50 - res_d16\n",
    "updbound = res_d84 - res_d50\n",
    "\n",
    "fig.axes[0].set_xticks([-3.5,-3.1,-2.7,-2.3,-1.9,-1.5])\n",
    "fig.axes[1].set_xticks([-3.5,-3.1,-2.7,-2.3,-1.9,-1.5])\n",
    "fig.axes[0].set_title(r'$[\\rm Fe/H] = %.2f^{+ %.2f}_{-%.2f} \\hspace{.25em} \\rm dex$'%(res_v50,upvbound,lowvbound), fontsize = 18, y = 1.04)\n",
    "fig.axes[3].set_title(r'$ \\hspace{.6em}  \\sigma_{\\rm [Fe/H]} = %.2f^{+ %.2f}_{-%.2f} \\hspace{.25em} \\rm dex$'%(res_d50,updbound,lowdbound), fontsize = 18, x = .56, y = 1.04)\n",
    "fig.axes[0].tick_params(bottom = False, left = False)\n",
    "fig.axes[1].tick_params(bottom = False)\n",
    "\n",
    "plt.savefig('Revised_MetallicityResults.pdf', bbox_inches = 'tight')"
   ]
  },
  {
   "cell_type": "markdown",
   "metadata": {},
   "source": [
    "### 2. Jackknife tests: removing stars one by one"
   ]
  },
  {
   "cell_type": "code",
   "execution_count": 15,
   "metadata": {},
   "outputs": [
    {
     "name": "stdout",
     "output_type": "stream",
     "text": [
      "After removing Star 1796890071833434112: \n",
      "Mean Metallicity is -2.91 [+0.20,-0.20]\n",
      "Metallcity Dispersion is 0.06 [+0.04,-0.17]\n",
      "----------------------------------------\n",
      "After removing Star 1796887219975171328: \n",
      "Mean Metallicity is -2.60 [+0.37,-0.32]\n",
      "Metallcity Dispersion is 0.53 [+0.23,-0.43]\n",
      "----------------------------------------\n",
      "After removing Star 1796888907896667520: \n",
      "Mean Metallicity is -2.58 [+0.37,-0.32]\n",
      "Metallcity Dispersion is 0.53 [+0.23,-0.44]\n",
      "----------------------------------------\n",
      "After removing Star 1796888834882857216: \n",
      "Mean Metallicity is -2.61 [+0.39,-0.33]\n",
      "Metallcity Dispersion is 0.55 [+0.23,-0.43]\n",
      "----------------------------------------\n",
      "After removing Star 1796890381071133568: \n",
      "Mean Metallicity is -2.45 [+0.33,-0.27]\n",
      "Metallcity Dispersion is 0.40 [+0.21,-0.35]\n",
      "----------------------------------------\n"
     ]
    }
   ],
   "source": [
    "default_kwargs = dict(nwalkers = 50,nburn = 5000,\n",
    "                  nsteps = 4500 , nthreads= 4, sigmaprior = 'log')\n",
    "\n",
    "sourceIDs = dataframe['source_id'][(dataframe['FeH'] != -99)]\n",
    "\n",
    "\n",
    "for sID in sourceIDs:\n",
    "\n",
    "    print('After removing Star %d: '%sID)\n",
    "    exclude = (dataframe['source_id'] != sID)\n",
    "\n",
    "    valid_feh = dataframe['FeH'][(dataframe['FeH'] != -99) & exclude]\n",
    "    valid_dfeh = dataframe['FeH_err_mean'][(dataframe['FeH'] != -99) & exclude]\n",
    "\n",
    "    samples = mcmc(valid_feh, valid_dfeh, default_kwargs)\n",
    "\n",
    "    vsamples = samples[:,0]\n",
    "    sigma_samples = 10**samples[:,1]\n",
    "    samples = np.vstack([vsamples,sigma_samples]).T\n",
    "\n",
    "    res_v50,res_v16,res_v84 = quantile(samples[:,0], q = [.5,.16,.84])\n",
    "    lowvbound = res_v50 - res_v16\n",
    "    upvbound = res_v84 - res_v50\n",
    "\n",
    "    res_d50,res_d16,res_d84 = quantile(samples[:,1], q = [.5,.16,.84])\n",
    "    lowdbound = res_d50 - res_d16\n",
    "    updbound = res_d84 - res_d50                             \n",
    "                                   \n",
    "\n",
    "    print('Mean Metallicity is %.2f [+%.2f,-%.2f]'%(res_v50, lowvbound, upvbound))\n",
    "    print('Metallcity Dispersion is %.2f [+%.2f,-%.2f]'%(res_d50, lowdbound, updbound))\n",
    "    print('-'*40)"
   ]
  },
  {
   "cell_type": "code",
   "execution_count": null,
   "metadata": {},
   "outputs": [],
   "source": []
  }
 ],
 "metadata": {
  "kernelspec": {
   "display_name": "Python 3",
   "language": "python",
   "name": "python3"
  },
  "language_info": {
   "codemirror_mode": {
    "name": "ipython",
    "version": 3
   },
   "file_extension": ".py",
   "mimetype": "text/x-python",
   "name": "python",
   "nbconvert_exporter": "python",
   "pygments_lexer": "ipython3",
   "version": "3.7.4"
  }
 },
 "nbformat": 4,
 "nbformat_minor": 2
}
