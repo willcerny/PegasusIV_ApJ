{
 "cells": [
  {
   "cell_type": "code",
   "execution_count": 1,
   "metadata": {},
   "outputs": [],
   "source": [
    "import numpy as np\n",
    "from scipy.stats import norm\n",
    "import matplotlib.pyplot as plt\n",
    "%matplotlib inline "
   ]
  },
  {
   "cell_type": "markdown",
   "metadata": {},
   "source": [
    "### Expected Absolute Value for RR Lyrae"
   ]
  },
  {
   "cell_type": "markdown",
   "metadata": {},
   "source": [
    "Empirical Calibration from Muraveva+ 2018: $$ M_G = (0.32 \\pm 0.04) *  \\rm  [Fe/H] + (1.11 \\pm 0.06)$$"
   ]
  },
  {
   "cell_type": "code",
   "execution_count": 2,
   "metadata": {},
   "outputs": [],
   "source": [
    "coeff = norm.rvs(loc = 0.32, scale = 0.04, size = 1000000)\n",
    "const = norm.rvs(loc = 1.11, scale = 0.06, size = 1000000)"
   ]
  },
  {
   "cell_type": "markdown",
   "metadata": {},
   "source": [
    "Pegasus IV Metallicity Distribution Function (approximated as Gaussian)"
   ]
  },
  {
   "cell_type": "code",
   "execution_count": 3,
   "metadata": {},
   "outputs": [],
   "source": [
    "mdf = norm.rvs(loc = -2.63, scale = 0.47, size = 1000000)"
   ]
  },
  {
   "cell_type": "markdown",
   "metadata": {},
   "source": [
    "Resulting expected value for $M_G$:"
   ]
  },
  {
   "cell_type": "code",
   "execution_count": 4,
   "metadata": {},
   "outputs": [
    {
     "name": "stdout",
     "output_type": "stream",
     "text": [
      "0.28 0.18 0.2\n"
     ]
    }
   ],
   "source": [
    "M_G_dist = coeff * mdf + const\n",
    "M_Gp16, M_Gp50, M_Gp84 = np.percentile(M_G_dist, [16,50,84])\n",
    "M_G_upper_err = M_Gp84 - M_Gp50\n",
    "M_G_lower_err = M_Gp50 - M_Gp16\n",
    "    \n",
    "print(round(M_Gp50,2),round(M_G_upper_err,2),round(M_G_lower_err,2))"
   ]
  },
  {
   "cell_type": "markdown",
   "metadata": {},
   "source": [
    "### Distance Moduli"
   ]
  },
  {
   "cell_type": "markdown",
   "metadata": {},
   "source": [
    "Relevant Equation: $$ (m-M)_{0} = G - (R_{G} \\times (E(B-V)) - M_{G} $$"
   ]
  },
  {
   "cell_type": "code",
   "execution_count": 5,
   "metadata": {},
   "outputs": [],
   "source": [
    "R_G = 2.45\n",
    "EBV = 0.06"
   ]
  },
  {
   "cell_type": "markdown",
   "metadata": {},
   "source": [
    "RRL with Gaia EDR3 Source ID: 1796887082536156928"
   ]
  },
  {
   "cell_type": "code",
   "execution_count": 6,
   "metadata": {},
   "outputs": [
    {
     "name": "stdout",
     "output_type": "stream",
     "text": [
      "RRL1 Distance Modulus: 19.66 [+0.20,-0.18]\n"
     ]
    }
   ],
   "source": [
    "Gmag_apparent_rrl1 = 20.08\n",
    "dm_samples_rrl1 = Gmag_apparent_rrl1 - (R_G * EBV) - M_G_dist\n",
    "\n",
    "dm_rrl1_p16, dm_rrl1_p50, dm_rrl1_p84 = np.percentile(dm_samples_rrl1, [16,50,84])\n",
    "dm_rrl1_upper_err = dm_rrl1_p84 - dm_rrl1_p50\n",
    "dm_rrl1_lower_err = dm_rrl1_p50 - dm_rrl1_p16\n",
    "\n",
    "print('RRL1 Distance Modulus: %.2f [+%.2f,-%.2f]'%(dm_rrl1_p50, dm_rrl1_upper_err, dm_rrl1_lower_err))"
   ]
  },
  {
   "cell_type": "markdown",
   "metadata": {},
   "source": [
    "RRL with Gaia EDR3 Source ID: 1796890209272433792"
   ]
  },
  {
   "cell_type": "code",
   "execution_count": 7,
   "metadata": {},
   "outputs": [
    {
     "name": "stdout",
     "output_type": "stream",
     "text": [
      "rrl2 Distance Modulus: 19.82 [+0.20,-0.18]\n"
     ]
    }
   ],
   "source": [
    "Gmag_apparent_rrl2 = 20.24\n",
    "dm_samples_rrl2  = Gmag_apparent_rrl2 - (R_G * EBV) - M_G_dist\n",
    "\n",
    "dm_rrl2_p16, dm_rrl2_p50, dm_rrl2_p84 = np.percentile(dm_samples_rrl2, [16,50,84])\n",
    "dm_rrl2_upper_err = dm_rrl2_p84 - dm_rrl2_p50\n",
    "dm_rrl2_lower_err = dm_rrl2_p50 - dm_rrl2_p16\n",
    "\n",
    "print('rrl2 Distance Modulus: %.2f [+%.2f,-%.2f]'%(dm_rrl2_p50, dm_rrl2_upper_err, dm_rrl2_lower_err))"
   ]
  },
  {
   "cell_type": "markdown",
   "metadata": {},
   "source": [
    "Combined:"
   ]
  },
  {
   "cell_type": "code",
   "execution_count": 8,
   "metadata": {},
   "outputs": [
    {
     "name": "stdout",
     "output_type": "stream",
     "text": [
      "19.74\n"
     ]
    }
   ],
   "source": [
    "print(round((dm_rrl1_p50 + dm_rrl2_p50)/2,2))"
   ]
  },
  {
   "cell_type": "code",
   "execution_count": 9,
   "metadata": {},
   "outputs": [
    {
     "name": "stdout",
     "output_type": "stream",
     "text": [
      "0.13\n"
     ]
    }
   ],
   "source": [
    "print(round(0.19/np.sqrt(2),2))"
   ]
  },
  {
   "cell_type": "markdown",
   "metadata": {},
   "source": [
    "### Distant RRL Member Candidate"
   ]
  },
  {
   "cell_type": "markdown",
   "metadata": {},
   "source": [
    "RRL with Gaia EDR3 Source ID: 1796879729552126080"
   ]
  },
  {
   "cell_type": "code",
   "execution_count": 10,
   "metadata": {},
   "outputs": [
    {
     "name": "stdout",
     "output_type": "stream",
     "text": [
      "rrl3 Distance Modulus: 19.70 [+0.20,-0.18]\n"
     ]
    }
   ],
   "source": [
    "Gmag_apparent_rrl3 = 20.12\n",
    "dm_samples_rrl3  = Gmag_apparent_rrl3 - (R_G * EBV) - M_G_dist\n",
    "\n",
    "dm_rrl3_p16, dm_rrl3_p50, dm_rrl3_p84 = np.percentile(dm_samples_rrl3, [16,50,84])\n",
    "dm_rrl3_upper_err = dm_rrl3_p84 - dm_rrl3_p50\n",
    "dm_rrl3_lower_err = dm_rrl3_p50 - dm_rrl3_p16\n",
    "\n",
    "print('rrl3 Distance Modulus: %.2f [+%.2f,-%.2f]'%(dm_rrl3_p50, dm_rrl3_upper_err, dm_rrl3_lower_err))"
   ]
  }
 ],
 "metadata": {
  "kernelspec": {
   "display_name": "Python 3",
   "language": "python",
   "name": "python3"
  },
  "language_info": {
   "codemirror_mode": {
    "name": "ipython",
    "version": 3
   },
   "file_extension": ".py",
   "mimetype": "text/x-python",
   "name": "python",
   "nbconvert_exporter": "python",
   "pygments_lexer": "ipython3",
   "version": "3.7.4"
  }
 },
 "nbformat": 4,
 "nbformat_minor": 2
}
